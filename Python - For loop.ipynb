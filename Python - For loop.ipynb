{
 "cells": [
  {
   "cell_type": "code",
   "execution_count": 1,
   "id": "bf69e0e3-1e07-4f33-b504-eeddf330c652",
   "metadata": {},
   "outputs": [
    {
     "name": "stdout",
     "output_type": "stream",
     "text": [
      "1\n",
      "2\n",
      "3\n",
      "4\n",
      "5\n",
      "6\n",
      "7\n",
      "8\n",
      "9\n",
      "10\n"
     ]
    }
   ],
   "source": [
    "#Basic Level\n",
    "#1 Write a Python program to print the numbers from 1 to 10 using a for loop:\n",
    "\n",
    "for i in range(1, 11):\n",
    "    print(i)"
   ]
  },
  {
   "cell_type": "code",
   "execution_count": 3,
   "id": "0f1e2325-d328-4c44-895b-c0ba32eb9f95",
   "metadata": {},
   "outputs": [
    {
     "name": "stdout",
     "output_type": "stream",
     "text": [
      "15\n"
     ]
    }
   ],
   "source": [
    "#2 Create a program that calculates the sum of all numbers in a list using a for loop:\n",
    "\n",
    "numbers = [1, 2, 3, 4, 5]\n",
    "total_sum = 0\n",
    "for num in numbers:\n",
    "    total_sum += num\n",
    "print(total_sum)"
   ]
  },
  {
   "cell_type": "code",
   "execution_count": 5,
   "id": "bcac9579-eaa4-49f9-bbd8-5fdbde737961",
   "metadata": {},
   "outputs": [
    {
     "name": "stdout",
     "output_type": "stream",
     "text": [
      "olleh\n"
     ]
    }
   ],
   "source": [
    "#3 Write a program to print the characters of a string in reverse order using a for loop:\n",
    "\n",
    "s = \"hello\"\n",
    "for char in reversed(s):\n",
    "    print(char, end='')\n",
    "print()  # for newline\n"
   ]
  },
  {
   "cell_type": "code",
   "execution_count": 7,
   "id": "cf23bf1b-1ba8-4738-bd92-68399a4c356a",
   "metadata": {},
   "outputs": [
    {
     "name": "stdout",
     "output_type": "stream",
     "text": [
      "120\n"
     ]
    }
   ],
   "source": [
    "#4 Develop a program that finds the factorial of a given number using a for loop:\n",
    "\n",
    "n = 5\n",
    "factorial = 1\n",
    "for i in range(1, n + 1):\n",
    "    factorial *= i\n",
    "print(factorial)"
   ]
  },
  {
   "cell_type": "code",
   "execution_count": 9,
   "id": "426ca4fe-3b96-4d74-ad4a-6fc6bb129540",
   "metadata": {},
   "outputs": [
    {
     "name": "stdout",
     "output_type": "stream",
     "text": [
      "7 x 1 = 7\n",
      "7 x 2 = 14\n",
      "7 x 3 = 21\n",
      "7 x 4 = 28\n",
      "7 x 5 = 35\n",
      "7 x 6 = 42\n",
      "7 x 7 = 49\n",
      "7 x 8 = 56\n",
      "7 x 9 = 63\n",
      "7 x 10 = 70\n"
     ]
    }
   ],
   "source": [
    "#5 Create a program to print the multiplication table of a given number using a for loop:\n",
    "\n",
    "number = 7\n",
    "for i in range(1, 11):\n",
    "    print(f\"{number} x {i} = {number * i}\")\n"
   ]
  },
  {
   "cell_type": "code",
   "execution_count": 11,
   "id": "4622645a-51ca-4f68-89e6-e094f5944b2d",
   "metadata": {},
   "outputs": [
    {
     "name": "stdout",
     "output_type": "stream",
     "text": [
      "Even numbers: 5\n",
      "Odd numbers: 5\n"
     ]
    }
   ],
   "source": [
    "#6 Write a program that counts the number of even and odd numbers in a list using a for loop:\n",
    "\n",
    "numbers = [1, 2, 3, 4, 5, 6, 7, 8, 9, 10]\n",
    "even_count = 0\n",
    "odd_count = 0\n",
    "for num in numbers:\n",
    "    if num % 2 == 0:\n",
    "        even_count += 1\n",
    "    else:\n",
    "        odd_count += 1\n",
    "print(\"Even numbers:\", even_count)\n",
    "print(\"Odd numbers:\", odd_count)\n"
   ]
  },
  {
   "cell_type": "code",
   "execution_count": 13,
   "id": "2691be22-dc4d-423c-b211-9942d072f568",
   "metadata": {},
   "outputs": [
    {
     "name": "stdout",
     "output_type": "stream",
     "text": [
      "1\n",
      "4\n",
      "9\n",
      "16\n",
      "25\n"
     ]
    }
   ],
   "source": [
    "#7 Develop a program that prints the squares of numbers from 1 to 5 using a `for` loop.\n",
    "\n",
    "for i in range(1, 6):\n",
    "    print(i * i)\n"
   ]
  },
  {
   "cell_type": "code",
   "execution_count": 15,
   "id": "caaf6a4b-e79f-4f20-a2f0-2373df7fed93",
   "metadata": {},
   "outputs": [
    {
     "name": "stdout",
     "output_type": "stream",
     "text": [
      "5\n"
     ]
    }
   ],
   "source": [
    "#8 Create a program to find the length of a string without using the `len()` function.\n",
    "\n",
    "s = \"hello\"\n",
    "count = 0\n",
    "for char in s:\n",
    "    count += 1\n",
    "print(count)\n"
   ]
  },
  {
   "cell_type": "code",
   "execution_count": 17,
   "id": "4edab17f-47d0-4b26-a113-9d7d69c30758",
   "metadata": {},
   "outputs": [
    {
     "name": "stdout",
     "output_type": "stream",
     "text": [
      "3.0\n"
     ]
    }
   ],
   "source": [
    "#9 Write a program that calculates the average of a list of numbers using a `for` loop.\n",
    "\n",
    "numbers = [1, 2, 3, 4, 5]\n",
    "total_sum = 0\n",
    "count = 0\n",
    "for num in numbers:\n",
    "    total_sum += num\n",
    "    count += 1\n",
    "average = total_sum / count\n",
    "print(average)\n"
   ]
  },
  {
   "cell_type": "code",
   "execution_count": 19,
   "id": "6fb72630-3637-470d-a734-327659c5cf40",
   "metadata": {},
   "outputs": [
    {
     "name": "stdout",
     "output_type": "stream",
     "text": [
      "0\n",
      "1\n",
      "1\n",
      "2\n",
      "3\n",
      "5\n",
      "8\n",
      "13\n",
      "21\n",
      "34\n"
     ]
    }
   ],
   "source": [
    "#10 Develop a program that prints the first `n` Fibonacci numbers using a `for` loop.\n",
    "\n",
    "n = 10\n",
    "a, b = 0, 1\n",
    "for _ in range(n):\n",
    "    print(a)\n",
    "    a, b = b, a + b\n"
   ]
  },
  {
   "cell_type": "code",
   "execution_count": 21,
   "id": "f88be425-0dca-4729-ac02-3096a5bcf353",
   "metadata": {},
   "outputs": [],
   "source": [
    "#            Intermediate Level\n"
   ]
  },
  {
   "cell_type": "code",
   "execution_count": 23,
   "id": "720a75f6-466c-49cc-ae9b-4ce6e1b1bf50",
   "metadata": {},
   "outputs": [
    {
     "name": "stdout",
     "output_type": "stream",
     "text": [
      "Contains duplicates: True\n"
     ]
    }
   ],
   "source": [
    "#11 Write a program to check if a given list contains any duplicates using a `for` loop.\n",
    "\n",
    "lst = [1, 2, 3, 4, 5, 1]\n",
    "seen = set()\n",
    "has_duplicates = False\n",
    "for item in lst:\n",
    "    if item in seen:\n",
    "        has_duplicates = True\n",
    "        break\n",
    "    seen.add(item)\n",
    "print(\"Contains duplicates:\", has_duplicates)\n"
   ]
  },
  {
   "cell_type": "code",
   "execution_count": 25,
   "id": "ea5dbdc3-5c8b-495b-be18-fa7bc4c22bc0",
   "metadata": {},
   "outputs": [
    {
     "name": "stdout",
     "output_type": "stream",
     "text": [
      "11\n",
      "13\n",
      "17\n",
      "19\n",
      "23\n",
      "29\n"
     ]
    }
   ],
   "source": [
    "#12 Create a program that prints the prime numbers in a given range using a `for` loop.\n",
    "\n",
    "def is_prime(num):\n",
    "    if num <= 1:\n",
    "        return False\n",
    "    for i in range(2, int(num ** 0.5) + 1):\n",
    "        if num % i == 0:\n",
    "            return False\n",
    "    return True\n",
    "\n",
    "start, end = 10, 30\n",
    "for num in range(start, end + 1):\n",
    "    if is_prime(num):\n",
    "        print(num)\n"
   ]
  },
  {
   "cell_type": "code",
   "execution_count": 27,
   "id": "32992ef7-b1a5-4512-aed4-818b4ec6c49d",
   "metadata": {},
   "outputs": [
    {
     "name": "stdout",
     "output_type": "stream",
     "text": [
      "3\n"
     ]
    }
   ],
   "source": [
    "#13 Develop a program that counts the number of vowels in a string using a `for` loop.\n",
    "\n",
    "s = \"hello world\"\n",
    "vowels = \"aeiou\"\n",
    "count = 0\n",
    "for char in s:\n",
    "    if char in vowels:\n",
    "        count += 1\n",
    "print(count)\n"
   ]
  },
  {
   "cell_type": "code",
   "execution_count": 29,
   "id": "8eee7955-4735-4771-84ca-1e19c82e2e3d",
   "metadata": {},
   "outputs": [
    {
     "name": "stdout",
     "output_type": "stream",
     "text": [
      "9\n"
     ]
    }
   ],
   "source": [
    "#14 Write a program to find the maximum element in a 2D list using a nested `for` loop.\n",
    "\n",
    "matrix = [[1, 2, 3], [4, 5, 6], [7, 8, 9]]\n",
    "max_value = matrix[0][0]\n",
    "for row in matrix:\n",
    "    for elem in row:\n",
    "        if elem > max_value:\n",
    "            max_value = elem\n",
    "print(max_value)\n"
   ]
  },
  {
   "cell_type": "code",
   "execution_count": 31,
   "id": "06934dd3-6968-4758-96b2-2e8408478db7",
   "metadata": {},
   "outputs": [
    {
     "name": "stdout",
     "output_type": "stream",
     "text": [
      "[1, 3, 4, 5]\n"
     ]
    }
   ],
   "source": [
    "#15 Create a program that removes all occurrences of a specific element from a list using a `for` loop.\n",
    "\n",
    "lst = [1, 2, 3, 2, 4, 2, 5]\n",
    "element_to_remove = 2\n",
    "result = []\n",
    "for item in lst:\n",
    "    if item != element_to_remove:\n",
    "        result.append(item)\n",
    "print(result)\n"
   ]
  },
  {
   "cell_type": "code",
   "execution_count": 33,
   "id": "090fdf91-0393-4ac9-9818-a60c513afb10",
   "metadata": {},
   "outputs": [
    {
     "name": "stdout",
     "output_type": "stream",
     "text": [
      "1 x 1 = 1\t1 x 2 = 2\t1 x 3 = 3\t1 x 4 = 4\t1 x 5 = 5\t\n",
      "2 x 1 = 2\t2 x 2 = 4\t2 x 3 = 6\t2 x 4 = 8\t2 x 5 = 10\t\n",
      "3 x 1 = 3\t3 x 2 = 6\t3 x 3 = 9\t3 x 4 = 12\t3 x 5 = 15\t\n",
      "4 x 1 = 4\t4 x 2 = 8\t4 x 3 = 12\t4 x 4 = 16\t4 x 5 = 20\t\n",
      "5 x 1 = 5\t5 x 2 = 10\t5 x 3 = 15\t5 x 4 = 20\t5 x 5 = 25\t\n"
     ]
    }
   ],
   "source": [
    "#16 Develop a program that generates a multiplication table for numbers from 1 to 5 using a nested `for` loop.\n",
    "\n",
    "for i in range(1, 6):\n",
    "    for j in range(1, 6):\n",
    "        print(f\"{i} x {j} = {i * j}\", end='\\t')\n",
    "    print()\n"
   ]
  },
  {
   "cell_type": "code",
   "execution_count": 35,
   "id": "c2f27f17-76ab-4be4-91d9-e9217f20e385",
   "metadata": {},
   "outputs": [
    {
     "name": "stdout",
     "output_type": "stream",
     "text": [
      "[0.0, 7.222222222222222, 10.0, 15.555555555555555, 22.22222222222222]\n"
     ]
    }
   ],
   "source": [
    "#17 Write a program that converts a list of Fahrenheit temperatures to Celsius using a `for` loop.\n",
    "\n",
    "fahrenheit = [32, 45, 50, 60, 72]\n",
    "celsius = []\n",
    "for temp in fahrenheit:\n",
    "    celsius.append((temp - 32) * 5 / 9)\n",
    "print(celsius)\n"
   ]
  },
  {
   "cell_type": "code",
   "execution_count": 37,
   "id": "217b62be-2475-488d-8231-150a56eb5e23",
   "metadata": {},
   "outputs": [
    {
     "name": "stdout",
     "output_type": "stream",
     "text": [
      "[4, 5]\n"
     ]
    }
   ],
   "source": [
    "#18 Create a program to print the common elements from two lists using a `for` loop.\n",
    "\n",
    "list1 = [1, 2, 3, 4, 5]\n",
    "list2 = [4, 5, 6, 7, 8]\n",
    "common_elements = []\n",
    "for item in list1:\n",
    "    if item in list2:\n",
    "        common_elements.append(item)\n",
    "print(common_elements)\n"
   ]
  },
  {
   "cell_type": "code",
   "execution_count": 39,
   "id": "ee3d194c-5163-412d-b3c9-700fa5864d19",
   "metadata": {},
   "outputs": [
    {
     "name": "stdout",
     "output_type": "stream",
     "text": [
      "*\n",
      "**\n",
      "***\n",
      "****\n",
      "*****\n"
     ]
    }
   ],
   "source": [
    "#19 Develop a program that prints the pattern of right-angled triangles using a `for` loop. Use ‘*’ to draw the pattern\n",
    "\n",
    "height = 5\n",
    "for i in range(1, height + 1):\n",
    "    print('*' * i)\n"
   ]
  },
  {
   "cell_type": "code",
   "execution_count": 41,
   "id": "57f7547b-b48d-4cde-ace3-d00e407a503e",
   "metadata": {},
   "outputs": [
    {
     "name": "stdout",
     "output_type": "stream",
     "text": [
      "12\n"
     ]
    }
   ],
   "source": [
    "# 20 Write a program to find the greatest common divisor (GCD) of two numbers using a `for` loop.\n",
    "\n",
    "def gcd(a, b):\n",
    "    min_value = min(a, b)\n",
    "    gcd_value = 1\n",
    "    for i in range(1, min_value + 1):\n",
    "        if a % i == 0 and b % i == 0:\n",
    "            gcd_value = i\n",
    "    return gcd_value\n",
    "\n",
    "num1 = 48\n",
    "num2 = 60\n",
    "print(gcd(num1, num2))\n"
   ]
  },
  {
   "cell_type": "code",
   "execution_count": null,
   "id": "30702100-969d-4fe2-8764-f2a5d4daefa1",
   "metadata": {},
   "outputs": [],
   "source": [
    "#   Advanced Level:"
   ]
  },
  {
   "cell_type": "code",
   "execution_count": 44,
   "id": "eb509ed3-f45f-4fdd-8570-5a29269b96c4",
   "metadata": {},
   "outputs": [
    {
     "name": "stdout",
     "output_type": "stream",
     "text": [
      "[6, 15, 24]\n"
     ]
    }
   ],
   "source": [
    "#21 Create a program that calculates the sum of the digits of numbers in a list using a list comprehension:\n",
    "\n",
    "numbers = [123, 456, 789]\n",
    "sum_of_digits = [sum(int(digit) for digit in str(number)) for number in numbers]\n",
    "print(sum_of_digits)\n"
   ]
  },
  {
   "cell_type": "code",
   "execution_count": 46,
   "id": "9cd0a21c-57ec-4ed8-9adc-806839727590",
   "metadata": {},
   "outputs": [
    {
     "name": "stdout",
     "output_type": "stream",
     "text": [
      "[2, 3, 5]\n"
     ]
    }
   ],
   "source": [
    "#22 Write a program to find the prime factors of a given number using a for loop and list comprehension:\n",
    "\n",
    "number = 60\n",
    "prime_factors = [i for i in range(2, number + 1) if number % i == 0 and all(i % j != 0 for j in range(2, int(i**0.5) + 1))]\n",
    "print(prime_factors)\n"
   ]
  },
  {
   "cell_type": "code",
   "execution_count": 48,
   "id": "15077ce8-d777-4898-95db-f4bbb3d339b4",
   "metadata": {},
   "outputs": [
    {
     "name": "stdout",
     "output_type": "stream",
     "text": [
      "[1, 2, 3, 4, 5]\n"
     ]
    }
   ],
   "source": [
    "#23 Develop a program that extracts unique elements from a list and stores them in a new list using a list comprehension:\n",
    "\n",
    "lst = [1, 2, 2, 3, 4, 4, 5]\n",
    "unique_elements = list({item for item in lst})\n",
    "print(unique_elements)\n"
   ]
  },
  {
   "cell_type": "code",
   "execution_count": 50,
   "id": "6ae6b822-0f5b-4e84-a07b-6834457a59bb",
   "metadata": {},
   "outputs": [
    {
     "name": "stdout",
     "output_type": "stream",
     "text": [
      "[0, 1, 2, 3, 4, 5, 6, 7, 8, 9, 11, 22, 33, 44, 55, 66, 77, 88, 99]\n"
     ]
    }
   ],
   "source": [
    "#24 Create a program that generates a list of all palindromic numbers up to a specified limit using a list comprehension:\n",
    "\n",
    "limit = 100\n",
    "palindromic_numbers = [num for num in range(limit + 1) if str(num) == str(num)[::-1]]\n",
    "print(palindromic_numbers)\n"
   ]
  },
  {
   "cell_type": "code",
   "execution_count": 52,
   "id": "3721a4cf-d2b9-4018-aef3-7ad472e7606d",
   "metadata": {},
   "outputs": [
    {
     "name": "stdout",
     "output_type": "stream",
     "text": [
      "[1, 2, 3, 4, 5, 6]\n"
     ]
    }
   ],
   "source": [
    "#25 Write a program to flatten a nested list using list comprehension:\n",
    "\n",
    "nested_list = [[1, 2], [3, 4, 5], [6]]\n",
    "flattened_list = [item for sublist in nested_list for item in sublist]\n",
    "print(flattened_list)\n"
   ]
  },
  {
   "cell_type": "code",
   "execution_count": 54,
   "id": "1203808f-bde8-476e-a6da-68ae8f542cc6",
   "metadata": {},
   "outputs": [
    {
     "name": "stdout",
     "output_type": "stream",
     "text": [
      "Sum of even numbers: 30\n",
      "Sum of odd numbers: 25\n"
     ]
    }
   ],
   "source": [
    "#26 Develop a program that computes the sum of even and odd numbers in a list separately using list comprehension:\n",
    "\n",
    "numbers = [1, 2, 3, 4, 5, 6, 7, 8, 9, 10]\n",
    "sum_even = sum(num for num in numbers if num % 2 == 0)\n",
    "sum_odd = sum(num for num in numbers if num % 2 != 0)\n",
    "print(\"Sum of even numbers:\", sum_even)\n",
    "print(\"Sum of odd numbers:\", sum_odd)\n"
   ]
  },
  {
   "cell_type": "code",
   "execution_count": 56,
   "id": "c8606d83-550b-488a-b599-795858412a3d",
   "metadata": {},
   "outputs": [
    {
     "name": "stdout",
     "output_type": "stream",
     "text": [
      "[1, 9, 25, 49, 81]\n"
     ]
    }
   ],
   "source": [
    "#27 Create a program that generates a list of squares of odd numbers between 1 and 10 using list comprehension:\n",
    "\n",
    "squares_of_odds = [i**2 for i in range(1, 11) if i % 2 != 0]\n",
    "print(squares_of_odds)\n"
   ]
  },
  {
   "cell_type": "code",
   "execution_count": 58,
   "id": "ac026ab0-8ad6-4086-93ed-d1b4b63f2c47",
   "metadata": {},
   "outputs": [
    {
     "name": "stdout",
     "output_type": "stream",
     "text": [
      "{'a': 1, 'b': 2, 'c': 3}\n"
     ]
    }
   ],
   "source": [
    "#28 Write a program that combines two lists into a dictionary using list comprehension:\n",
    "\n",
    "keys = ['a', 'b', 'c']\n",
    "values = [1, 2, 3]\n",
    "combined_dict = {keys[i]: values[i] for i in range(len(keys))}\n",
    "print(combined_dict)\n"
   ]
  },
  {
   "cell_type": "code",
   "execution_count": 60,
   "id": "f4c3b121-b31e-4fee-be05-439475827c98",
   "metadata": {},
   "outputs": [
    {
     "name": "stdout",
     "output_type": "stream",
     "text": [
      "['e', 'o', 'o']\n"
     ]
    }
   ],
   "source": [
    "#29 Develop a program that extracts the vowels from a string and stores them in a list using list comprehension:\n",
    "\n",
    "s = \"hello world\"\n",
    "vowels = [char for char in s if char in 'aeiou']\n",
    "print(vowels)\n"
   ]
  },
  {
   "cell_type": "code",
   "execution_count": 62,
   "id": "0427adbb-6f00-46a0-a8c8-258861717252",
   "metadata": {},
   "outputs": [
    {
     "name": "stdout",
     "output_type": "stream",
     "text": [
      "['123', '456', '789']\n"
     ]
    }
   ],
   "source": [
    "#30 Create a program that removes all non-numeric characters from a list of strings using list comprehension:\n",
    "\n",
    "strings = [\"abc123\", \"456def\", \"789\"]\n",
    "numeric_strings = [''.join(char for char in string if char.isdigit()) for string in strings]\n",
    "print(numeric_strings)\n"
   ]
  },
  {
   "cell_type": "code",
   "execution_count": 64,
   "id": "25e3ac81-abe7-4bed-b8f8-8b28daf126c5",
   "metadata": {},
   "outputs": [],
   "source": [
    "#         Challenge Level\n"
   ]
  },
  {
   "cell_type": "code",
   "execution_count": 66,
   "id": "cd69b8c1-7dae-49c8-9d21-d2750a49bbf0",
   "metadata": {},
   "outputs": [
    {
     "name": "stdout",
     "output_type": "stream",
     "text": [
      "[2, 3, 5, 7, 11, 13, 17, 19, 23, 29, 31, 37, 41, 43, 47]\n"
     ]
    }
   ],
   "source": [
    "#31 Write a program to generate a list of prime numbers using the Sieve of Eratosthenes algorithm and list comprehension:\n",
    "\n",
    "def sieve_of_eratosthenes(limit):\n",
    "    sieve = [True] * (limit + 1)\n",
    "    sieve[0] = sieve[1] = False\n",
    "    for start in range(2, int(limit**0.5) + 1):\n",
    "        if sieve[start]:\n",
    "            for i in range(start*start, limit + 1, start):\n",
    "                sieve[i] = False\n",
    "    return [num for num, is_prime in enumerate(sieve) if is_prime]\n",
    "\n",
    "limit = 50\n",
    "primes = sieve_of_eratosthenes(limit)\n",
    "print(primes)\n"
   ]
  },
  {
   "cell_type": "code",
   "execution_count": 68,
   "id": "fb056e3f-2936-40e1-bf35-33295a7abdcc",
   "metadata": {},
   "outputs": [
    {
     "name": "stdout",
     "output_type": "stream",
     "text": [
      "[(3, 4, 5), (5, 12, 13), (6, 8, 10), (7, 24, 25), (8, 15, 17), (9, 12, 15), (10, 24, 26), (12, 16, 20), (15, 20, 25), (18, 24, 30), (20, 21, 29)]\n"
     ]
    }
   ],
   "source": [
    "#32 Create a program that generates a list of all Pythagorean triplets up to a specified limit using list comprehension:\n",
    "\n",
    "limit = 30\n",
    "pythagorean_triplets = [(a, b, c) for a in range(1, limit + 1)\n",
    "                        for b in range(a, limit + 1)\n",
    "                        for c in range(b, limit + 1)\n",
    "                        if a**2 + b**2 == c**2]\n",
    "print(pythagorean_triplets)\n"
   ]
  },
  {
   "cell_type": "code",
   "execution_count": 70,
   "id": "5b273b58-2bf9-4231-b983-d513fae5e596",
   "metadata": {},
   "outputs": [
    {
     "name": "stdout",
     "output_type": "stream",
     "text": [
      "[(1, 'a'), (1, 'b'), (2, 'a'), (2, 'b')]\n"
     ]
    }
   ],
   "source": [
    "#33 Develop a program that generates a list of all possible combinations of two lists using list comprehension:\n",
    "\n",
    "list1 = [1, 2]\n",
    "list2 = ['a', 'b']\n",
    "combinations = [(x, y) for x in list1 for y in list2]\n",
    "print(combinations)\n"
   ]
  },
  {
   "cell_type": "code",
   "execution_count": 72,
   "id": "0667924f-966c-45bd-aa89-10608f7ed8fe",
   "metadata": {},
   "outputs": [
    {
     "name": "stdout",
     "output_type": "stream",
     "text": [
      "Mean: 3.1666666666666665\n",
      "Median: 3.5\n",
      "Mode: 4\n"
     ]
    }
   ],
   "source": [
    "#34 Write a program that calculates the mean, median, and mode of a list of numbers using list comprehension:\n",
    "\n",
    "from statistics import mean, median, mode\n",
    "\n",
    "numbers = [1, 2, 3, 4, 4, 5]\n",
    "mean_val = mean(numbers)\n",
    "median_val = median(numbers)\n",
    "mode_val = mode(numbers)\n",
    "\n",
    "print(f\"Mean: {mean_val}\")\n",
    "print(f\"Median: {median_val}\")\n",
    "print(f\"Mode: {mode_val}\")\n"
   ]
  },
  {
   "cell_type": "code",
   "execution_count": 74,
   "id": "160915c0-c42f-466c-8be5-e4d538d6a0f3",
   "metadata": {},
   "outputs": [
    {
     "name": "stdout",
     "output_type": "stream",
     "text": [
      "[[1], [1, 1], [1, 2, 1], [1, 3, 3, 1], [1, 4, 6, 4, 1]]\n"
     ]
    }
   ],
   "source": [
    "#35 Create a program that generates Pascal's triangle up to a specified number of rows using list comprehension:\n",
    "\n",
    "def generate_pascals_triangle(n):\n",
    "    triangle = [[1] * (i + 1) for i in range(n)]\n",
    "    for i in range(2, n):\n",
    "        for j in range(1, i):\n",
    "            triangle[i][j] = triangle[i - 1][j - 1] + triangle[i - 1][j]\n",
    "    return triangle\n",
    "\n",
    "rows = 5\n",
    "pascals_triangle = generate_pascals_triangle(rows)\n",
    "print(pascals_triangle)\n"
   ]
  },
  {
   "cell_type": "code",
   "execution_count": 76,
   "id": "9d1ef75a-c693-4b7a-b051-3336b7819262",
   "metadata": {},
   "outputs": [
    {
     "name": "stdout",
     "output_type": "stream",
     "text": [
      "[1, 2, 6, 6, 3]\n"
     ]
    }
   ],
   "source": [
    "#36 Develop a program that calculates the sum of the digits of a factorial of numbers from 1 to 5 using list comprehension:\n",
    "\n",
    "from math import factorial\n",
    "\n",
    "digit_sums = [sum(int(digit) for digit in str(factorial(n))) for n in range(1, 6)]\n",
    "print(digit_sums)\n"
   ]
  },
  {
   "cell_type": "code",
   "execution_count": 78,
   "id": "6a7094a5-333d-4831-92dc-5c7df12628de",
   "metadata": {},
   "outputs": [
    {
     "name": "stdout",
     "output_type": "stream",
     "text": [
      "sentence\n"
     ]
    }
   ],
   "source": [
    "#37 Write a program that finds the longest word in a sentence using list comprehension:\n",
    "\n",
    "sentence = \"Find the longest word in this sentence\"\n",
    "longest_word = max(sentence.split(), key=len)\n",
    "print(longest_word)\n"
   ]
  },
  {
   "cell_type": "code",
   "execution_count": 80,
   "id": "87414534-163f-4272-bac9-391ef16d06c2",
   "metadata": {},
   "outputs": [
    {
     "name": "stdout",
     "output_type": "stream",
     "text": [
      "['beautiful']\n"
     ]
    }
   ],
   "source": [
    "#38 Create a program that filters a list of strings to include only those with more than three vowels using list comprehension:\n",
    "\n",
    "strings = [\"hello\", \"world\", \"beautiful\", \"day\"]\n",
    "filtered_strings = [s for s in strings if sum(1 for char in s if char in 'aeiou') > 3]\n",
    "print(filtered_strings)\n"
   ]
  },
  {
   "cell_type": "code",
   "execution_count": 82,
   "id": "b9fc697d-1f01-4cb5-9a05-8282c147f0e1",
   "metadata": {},
   "outputs": [
    {
     "name": "stdout",
     "output_type": "stream",
     "text": [
      "13501\n"
     ]
    }
   ],
   "source": [
    "#39 Develop a program that calculates the sum of the digits of numbers from 1 to 1000 using list comprehension:\n",
    "\n",
    "sum_of_digits = [sum(int(digit) for digit in str(number)) for number in range(1, 1001)]\n",
    "print(sum(sum_of_digits))\n"
   ]
  },
  {
   "cell_type": "code",
   "execution_count": 84,
   "id": "71cd818a-8459-442f-91b8-c00cc914d2a6",
   "metadata": {},
   "outputs": [
    {
     "name": "stdout",
     "output_type": "stream",
     "text": [
      "[2, 3, 5, 7, 11, 101, 131, 151, 181, 191, 313, 353, 373, 383, 727, 757, 787, 797, 919, 929]\n"
     ]
    }
   ],
   "source": [
    "#40 Write a program that generates a list of prime palindromic numbers using list comprehension:\n",
    "\n",
    "def is_prime(num):\n",
    "    if num <= 1:\n",
    "        return False\n",
    "    for i in range(2, int(num**0.5) + 1):\n",
    "        if num % i == 0:\n",
    "            return False\n",
    "    return True\n",
    "\n",
    "def is_palindrome(num):\n",
    "    return str(num) == str(num)[::-1]\n",
    "\n",
    "prime_palindromes = [num for num in range(2, 1001) if is_prime(num) and is_palindrome(num)]\n",
    "print(prime_palindromes) "
   ]
  },
  {
   "cell_type": "code",
   "execution_count": null,
   "id": "64704dea-1710-4634-94f8-358a94b27a6c",
   "metadata": {},
   "outputs": [],
   "source": []
  }
 ],
 "metadata": {
  "kernelspec": {
   "display_name": "Python 3 (ipykernel)",
   "language": "python",
   "name": "python3"
  },
  "language_info": {
   "codemirror_mode": {
    "name": "ipython",
    "version": 3
   },
   "file_extension": ".py",
   "mimetype": "text/x-python",
   "name": "python",
   "nbconvert_exporter": "python",
   "pygments_lexer": "ipython3",
   "version": "3.11.7"
  }
 },
 "nbformat": 4,
 "nbformat_minor": 5
}
